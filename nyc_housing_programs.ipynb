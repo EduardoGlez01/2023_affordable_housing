{
 "cells": [
  {
   "cell_type": "code",
   "execution_count": 2,
   "id": "e71d2421",
   "metadata": {},
   "outputs": [],
   "source": [
    "## Import\n",
    "import pandas as pd"
   ]
  },
  {
   "cell_type": "code",
   "execution_count": 3,
   "id": "075dd4e3",
   "metadata": {},
   "outputs": [
    {
     "data": {
      "text/html": [
       "<div>\n",
       "<style scoped>\n",
       "    .dataframe tbody tr th:only-of-type {\n",
       "        vertical-align: middle;\n",
       "    }\n",
       "\n",
       "    .dataframe tbody tr th {\n",
       "        vertical-align: top;\n",
       "    }\n",
       "\n",
       "    .dataframe thead th {\n",
       "        text-align: right;\n",
       "    }\n",
       "</style>\n",
       "<table border=\"1\" class=\"dataframe\">\n",
       "  <thead>\n",
       "    <tr style=\"text-align: right;\">\n",
       "      <th></th>\n",
       "      <th>Project ID</th>\n",
       "      <th>Project Name</th>\n",
       "      <th>Program Group</th>\n",
       "      <th>Project Start Date</th>\n",
       "      <th>Project Completion Date</th>\n",
       "      <th>Extended Affordability Only</th>\n",
       "      <th>Prevailing Wage Status</th>\n",
       "      <th>Planned Tax Benefit</th>\n",
       "      <th>Extremely Low Income Units</th>\n",
       "      <th>Very Low Income Units</th>\n",
       "      <th>Low Income Units</th>\n",
       "      <th>Moderate Income Units</th>\n",
       "      <th>Middle Income Units</th>\n",
       "      <th>Other Income Units</th>\n",
       "      <th>Counted Rental Units</th>\n",
       "      <th>Counted Homeownership Units</th>\n",
       "      <th>All Counted Units</th>\n",
       "      <th>Total Units</th>\n",
       "      <th>Senior Units</th>\n",
       "    </tr>\n",
       "  </thead>\n",
       "  <tbody>\n",
       "    <tr>\n",
       "      <th>0</th>\n",
       "      <td>44218</td>\n",
       "      <td>MEC E. 125TH ST. PARCEL B WEST</td>\n",
       "      <td>Multifamily Finance Program</td>\n",
       "      <td>12/31/2018</td>\n",
       "      <td>02/16/2022</td>\n",
       "      <td>No</td>\n",
       "      <td>Non Prevailing Wage</td>\n",
       "      <td>Article XI</td>\n",
       "      <td>0</td>\n",
       "      <td>101</td>\n",
       "      <td>101</td>\n",
       "      <td>0</td>\n",
       "      <td>93</td>\n",
       "      <td>2</td>\n",
       "      <td>297</td>\n",
       "      <td>0</td>\n",
       "      <td>297</td>\n",
       "      <td>404</td>\n",
       "      <td>0</td>\n",
       "    </tr>\n",
       "    <tr>\n",
       "      <th>1</th>\n",
       "      <td>44223</td>\n",
       "      <td>ROCHESTER SUYDAM PHASE 1</td>\n",
       "      <td>Multifamily Finance Program</td>\n",
       "      <td>06/30/2021</td>\n",
       "      <td>NaN</td>\n",
       "      <td>No</td>\n",
       "      <td>Non Prevailing Wage</td>\n",
       "      <td>Article XI</td>\n",
       "      <td>0</td>\n",
       "      <td>0</td>\n",
       "      <td>0</td>\n",
       "      <td>39</td>\n",
       "      <td>7</td>\n",
       "      <td>0</td>\n",
       "      <td>0</td>\n",
       "      <td>46</td>\n",
       "      <td>46</td>\n",
       "      <td>46</td>\n",
       "      <td>0</td>\n",
       "    </tr>\n",
       "    <tr>\n",
       "      <th>2</th>\n",
       "      <td>44225</td>\n",
       "      <td>Brook Avenue Apartments</td>\n",
       "      <td>Multifamily Finance Program</td>\n",
       "      <td>06/27/2014</td>\n",
       "      <td>12/28/2016</td>\n",
       "      <td>No</td>\n",
       "      <td>Non Prevailing Wage</td>\n",
       "      <td>421a</td>\n",
       "      <td>0</td>\n",
       "      <td>14</td>\n",
       "      <td>51</td>\n",
       "      <td>0</td>\n",
       "      <td>0</td>\n",
       "      <td>1</td>\n",
       "      <td>66</td>\n",
       "      <td>0</td>\n",
       "      <td>66</td>\n",
       "      <td>66</td>\n",
       "      <td>0</td>\n",
       "    </tr>\n",
       "    <tr>\n",
       "      <th>3</th>\n",
       "      <td>44230</td>\n",
       "      <td>Mermaid  / West. 16th Street</td>\n",
       "      <td>Small Homes Program</td>\n",
       "      <td>06/30/2015</td>\n",
       "      <td>07/21/2017</td>\n",
       "      <td>No</td>\n",
       "      <td>Non Prevailing Wage</td>\n",
       "      <td>UDAAP</td>\n",
       "      <td>0</td>\n",
       "      <td>0</td>\n",
       "      <td>0</td>\n",
       "      <td>16</td>\n",
       "      <td>5</td>\n",
       "      <td>0</td>\n",
       "      <td>14</td>\n",
       "      <td>7</td>\n",
       "      <td>21</td>\n",
       "      <td>21</td>\n",
       "      <td>0</td>\n",
       "    </tr>\n",
       "    <tr>\n",
       "      <th>4</th>\n",
       "      <td>44239</td>\n",
       "      <td>Home for Harlem Dowling</td>\n",
       "      <td>Multifamily Finance Program</td>\n",
       "      <td>06/30/2014</td>\n",
       "      <td>12/29/2016</td>\n",
       "      <td>No</td>\n",
       "      <td>Non Prevailing Wage</td>\n",
       "      <td>420c</td>\n",
       "      <td>12</td>\n",
       "      <td>0</td>\n",
       "      <td>47</td>\n",
       "      <td>0</td>\n",
       "      <td>0</td>\n",
       "      <td>1</td>\n",
       "      <td>60</td>\n",
       "      <td>0</td>\n",
       "      <td>60</td>\n",
       "      <td>60</td>\n",
       "      <td>0</td>\n",
       "    </tr>\n",
       "    <tr>\n",
       "      <th>...</th>\n",
       "      <td>...</td>\n",
       "      <td>...</td>\n",
       "      <td>...</td>\n",
       "      <td>...</td>\n",
       "      <td>...</td>\n",
       "      <td>...</td>\n",
       "      <td>...</td>\n",
       "      <td>...</td>\n",
       "      <td>...</td>\n",
       "      <td>...</td>\n",
       "      <td>...</td>\n",
       "      <td>...</td>\n",
       "      <td>...</td>\n",
       "      <td>...</td>\n",
       "      <td>...</td>\n",
       "      <td>...</td>\n",
       "      <td>...</td>\n",
       "      <td>...</td>\n",
       "      <td>...</td>\n",
       "    </tr>\n",
       "    <tr>\n",
       "      <th>3628</th>\n",
       "      <td>73331</td>\n",
       "      <td>CONFIDENTIAL</td>\n",
       "      <td>Homeowner Assistance Program</td>\n",
       "      <td>11/30/2022</td>\n",
       "      <td>NaN</td>\n",
       "      <td>No</td>\n",
       "      <td>Non Prevailing Wage</td>\n",
       "      <td>NaN</td>\n",
       "      <td>0</td>\n",
       "      <td>0</td>\n",
       "      <td>1</td>\n",
       "      <td>0</td>\n",
       "      <td>0</td>\n",
       "      <td>0</td>\n",
       "      <td>0</td>\n",
       "      <td>1</td>\n",
       "      <td>1</td>\n",
       "      <td>1</td>\n",
       "      <td>1</td>\n",
       "    </tr>\n",
       "    <tr>\n",
       "      <th>3629</th>\n",
       "      <td>73333</td>\n",
       "      <td>CONFIDENTIAL</td>\n",
       "      <td>Homeowner Assistance Program</td>\n",
       "      <td>11/29/2022</td>\n",
       "      <td>NaN</td>\n",
       "      <td>No</td>\n",
       "      <td>Non Prevailing Wage</td>\n",
       "      <td>NaN</td>\n",
       "      <td>0</td>\n",
       "      <td>0</td>\n",
       "      <td>0</td>\n",
       "      <td>2</td>\n",
       "      <td>0</td>\n",
       "      <td>0</td>\n",
       "      <td>0</td>\n",
       "      <td>2</td>\n",
       "      <td>2</td>\n",
       "      <td>2</td>\n",
       "      <td>0</td>\n",
       "    </tr>\n",
       "    <tr>\n",
       "      <th>3630</th>\n",
       "      <td>73334</td>\n",
       "      <td>KENT VILLAGE</td>\n",
       "      <td>Multifamily Finance Program</td>\n",
       "      <td>12/19/2022</td>\n",
       "      <td>NaN</td>\n",
       "      <td>No</td>\n",
       "      <td>Non Prevailing Wage</td>\n",
       "      <td>NaN</td>\n",
       "      <td>0</td>\n",
       "      <td>498</td>\n",
       "      <td>34</td>\n",
       "      <td>0</td>\n",
       "      <td>0</td>\n",
       "      <td>2</td>\n",
       "      <td>531</td>\n",
       "      <td>3</td>\n",
       "      <td>534</td>\n",
       "      <td>534</td>\n",
       "      <td>0</td>\n",
       "    </tr>\n",
       "    <tr>\n",
       "      <th>3631</th>\n",
       "      <td>73336</td>\n",
       "      <td>CONFIDENTIAL</td>\n",
       "      <td>Homeowner Assistance Program</td>\n",
       "      <td>12/27/2022</td>\n",
       "      <td>NaN</td>\n",
       "      <td>No</td>\n",
       "      <td>Non Prevailing Wage</td>\n",
       "      <td>NaN</td>\n",
       "      <td>2</td>\n",
       "      <td>0</td>\n",
       "      <td>0</td>\n",
       "      <td>0</td>\n",
       "      <td>0</td>\n",
       "      <td>0</td>\n",
       "      <td>0</td>\n",
       "      <td>2</td>\n",
       "      <td>2</td>\n",
       "      <td>2</td>\n",
       "      <td>0</td>\n",
       "    </tr>\n",
       "    <tr>\n",
       "      <th>3632</th>\n",
       "      <td>73337</td>\n",
       "      <td>CONFIDENTIAL</td>\n",
       "      <td>Homeowner Assistance Program</td>\n",
       "      <td>12/28/2022</td>\n",
       "      <td>NaN</td>\n",
       "      <td>No</td>\n",
       "      <td>Non Prevailing Wage</td>\n",
       "      <td>NaN</td>\n",
       "      <td>0</td>\n",
       "      <td>1</td>\n",
       "      <td>0</td>\n",
       "      <td>0</td>\n",
       "      <td>0</td>\n",
       "      <td>0</td>\n",
       "      <td>0</td>\n",
       "      <td>1</td>\n",
       "      <td>1</td>\n",
       "      <td>1</td>\n",
       "      <td>0</td>\n",
       "    </tr>\n",
       "  </tbody>\n",
       "</table>\n",
       "<p>3633 rows × 19 columns</p>\n",
       "</div>"
      ],
      "text/plain": [
       "      Project ID                    Project Name  \\\n",
       "0          44218  MEC E. 125TH ST. PARCEL B WEST   \n",
       "1          44223        ROCHESTER SUYDAM PHASE 1   \n",
       "2          44225         Brook Avenue Apartments   \n",
       "3          44230    Mermaid  / West. 16th Street   \n",
       "4          44239         Home for Harlem Dowling   \n",
       "...          ...                             ...   \n",
       "3628       73331                    CONFIDENTIAL   \n",
       "3629       73333                    CONFIDENTIAL   \n",
       "3630       73334                    KENT VILLAGE   \n",
       "3631       73336                    CONFIDENTIAL   \n",
       "3632       73337                    CONFIDENTIAL   \n",
       "\n",
       "                     Program Group Project Start Date Project Completion Date  \\\n",
       "0      Multifamily Finance Program         12/31/2018              02/16/2022   \n",
       "1      Multifamily Finance Program         06/30/2021                     NaN   \n",
       "2      Multifamily Finance Program         06/27/2014              12/28/2016   \n",
       "3              Small Homes Program         06/30/2015              07/21/2017   \n",
       "4      Multifamily Finance Program         06/30/2014              12/29/2016   \n",
       "...                            ...                ...                     ...   \n",
       "3628  Homeowner Assistance Program         11/30/2022                     NaN   \n",
       "3629  Homeowner Assistance Program         11/29/2022                     NaN   \n",
       "3630   Multifamily Finance Program         12/19/2022                     NaN   \n",
       "3631  Homeowner Assistance Program         12/27/2022                     NaN   \n",
       "3632  Homeowner Assistance Program         12/28/2022                     NaN   \n",
       "\n",
       "     Extended Affordability Only Prevailing Wage Status Planned Tax Benefit  \\\n",
       "0                             No    Non Prevailing Wage          Article XI   \n",
       "1                             No    Non Prevailing Wage          Article XI   \n",
       "2                             No    Non Prevailing Wage                421a   \n",
       "3                             No    Non Prevailing Wage               UDAAP   \n",
       "4                             No    Non Prevailing Wage                420c   \n",
       "...                          ...                    ...                 ...   \n",
       "3628                          No    Non Prevailing Wage                 NaN   \n",
       "3629                          No    Non Prevailing Wage                 NaN   \n",
       "3630                          No    Non Prevailing Wage                 NaN   \n",
       "3631                          No    Non Prevailing Wage                 NaN   \n",
       "3632                          No    Non Prevailing Wage                 NaN   \n",
       "\n",
       "      Extremely Low Income Units  Very Low Income Units  Low Income Units  \\\n",
       "0                              0                    101               101   \n",
       "1                              0                      0                 0   \n",
       "2                              0                     14                51   \n",
       "3                              0                      0                 0   \n",
       "4                             12                      0                47   \n",
       "...                          ...                    ...               ...   \n",
       "3628                           0                      0                 1   \n",
       "3629                           0                      0                 0   \n",
       "3630                           0                    498                34   \n",
       "3631                           2                      0                 0   \n",
       "3632                           0                      1                 0   \n",
       "\n",
       "      Moderate Income Units  Middle Income Units  Other Income Units  \\\n",
       "0                         0                   93                   2   \n",
       "1                        39                    7                   0   \n",
       "2                         0                    0                   1   \n",
       "3                        16                    5                   0   \n",
       "4                         0                    0                   1   \n",
       "...                     ...                  ...                 ...   \n",
       "3628                      0                    0                   0   \n",
       "3629                      2                    0                   0   \n",
       "3630                      0                    0                   2   \n",
       "3631                      0                    0                   0   \n",
       "3632                      0                    0                   0   \n",
       "\n",
       "      Counted Rental Units  Counted Homeownership Units  All Counted Units  \\\n",
       "0                      297                            0                297   \n",
       "1                        0                           46                 46   \n",
       "2                       66                            0                 66   \n",
       "3                       14                            7                 21   \n",
       "4                       60                            0                 60   \n",
       "...                    ...                          ...                ...   \n",
       "3628                     0                            1                  1   \n",
       "3629                     0                            2                  2   \n",
       "3630                   531                            3                534   \n",
       "3631                     0                            2                  2   \n",
       "3632                     0                            1                  1   \n",
       "\n",
       "      Total Units  Senior Units  \n",
       "0             404             0  \n",
       "1              46             0  \n",
       "2              66             0  \n",
       "3              21             0  \n",
       "4              60             0  \n",
       "...           ...           ...  \n",
       "3628            1             1  \n",
       "3629            2             0  \n",
       "3630          534             0  \n",
       "3631            2             0  \n",
       "3632            1             0  \n",
       "\n",
       "[3633 rows x 19 columns]"
      ]
     },
     "execution_count": 3,
     "metadata": {},
     "output_type": "execute_result"
    }
   ],
   "source": [
    "df = pd.read_csv(\"Affordable_Housing_Production_by_Project.csv\")\n",
    "df"
   ]
  },
  {
   "cell_type": "code",
   "execution_count": 4,
   "id": "d3a3b900",
   "metadata": {},
   "outputs": [
    {
     "name": "stdout",
     "output_type": "stream",
     "text": [
      "<class 'pandas.core.frame.DataFrame'>\n",
      "RangeIndex: 3633 entries, 0 to 3632\n",
      "Data columns (total 19 columns):\n",
      " #   Column                       Non-Null Count  Dtype \n",
      "---  ------                       --------------  ----- \n",
      " 0   Project ID                   3633 non-null   int64 \n",
      " 1   Project Name                 3633 non-null   object\n",
      " 2   Program Group                3633 non-null   object\n",
      " 3   Project Start Date           3633 non-null   object\n",
      " 4   Project Completion Date      2637 non-null   object\n",
      " 5   Extended Affordability Only  3633 non-null   object\n",
      " 6   Prevailing Wage Status       3633 non-null   object\n",
      " 7   Planned Tax Benefit          2204 non-null   object\n",
      " 8   Extremely Low Income Units   3633 non-null   int64 \n",
      " 9   Very Low Income Units        3633 non-null   int64 \n",
      " 10  Low Income Units             3633 non-null   int64 \n",
      " 11  Moderate Income Units        3633 non-null   int64 \n",
      " 12  Middle Income Units          3633 non-null   int64 \n",
      " 13  Other Income Units           3633 non-null   int64 \n",
      " 14  Counted Rental Units         3633 non-null   int64 \n",
      " 15  Counted Homeownership Units  3633 non-null   int64 \n",
      " 16  All Counted Units            3633 non-null   int64 \n",
      " 17  Total Units                  3633 non-null   int64 \n",
      " 18  Senior Units                 3633 non-null   int64 \n",
      "dtypes: int64(12), object(7)\n",
      "memory usage: 539.4+ KB\n"
     ]
    }
   ],
   "source": [
    "## Get Info\n",
    "df.info()"
   ]
  },
  {
   "cell_type": "code",
   "execution_count": 5,
   "id": "496694cb",
   "metadata": {},
   "outputs": [
    {
     "data": {
      "text/plain": [
       "(3633, 19)"
      ]
     },
     "execution_count": 5,
     "metadata": {},
     "output_type": "execute_result"
    }
   ],
   "source": [
    "df.shape"
   ]
  },
  {
   "cell_type": "code",
   "execution_count": 6,
   "id": "8d89a07f",
   "metadata": {},
   "outputs": [
    {
     "data": {
      "text/html": [
       "<div>\n",
       "<style scoped>\n",
       "    .dataframe tbody tr th:only-of-type {\n",
       "        vertical-align: middle;\n",
       "    }\n",
       "\n",
       "    .dataframe tbody tr th {\n",
       "        vertical-align: top;\n",
       "    }\n",
       "\n",
       "    .dataframe thead th {\n",
       "        text-align: right;\n",
       "    }\n",
       "</style>\n",
       "<table border=\"1\" class=\"dataframe\">\n",
       "  <thead>\n",
       "    <tr style=\"text-align: right;\">\n",
       "      <th></th>\n",
       "      <th>Program Group</th>\n",
       "    </tr>\n",
       "  </thead>\n",
       "  <tbody>\n",
       "    <tr>\n",
       "      <th>Multifamily Incentives Program</th>\n",
       "      <td>1421</td>\n",
       "    </tr>\n",
       "    <tr>\n",
       "      <th>Homeowner Assistance Program</th>\n",
       "      <td>1303</td>\n",
       "    </tr>\n",
       "    <tr>\n",
       "      <th>Multifamily Finance Program</th>\n",
       "      <td>851</td>\n",
       "    </tr>\n",
       "    <tr>\n",
       "      <th>Small Homes Program</th>\n",
       "      <td>32</td>\n",
       "    </tr>\n",
       "    <tr>\n",
       "      <th>Other</th>\n",
       "      <td>26</td>\n",
       "    </tr>\n",
       "  </tbody>\n",
       "</table>\n",
       "</div>"
      ],
      "text/plain": [
       "                                Program Group\n",
       "Multifamily Incentives Program           1421\n",
       "Homeowner Assistance Program             1303\n",
       "Multifamily Finance Program               851\n",
       "Small Homes Program                        32\n",
       "Other                                      26"
      ]
     },
     "execution_count": 6,
     "metadata": {},
     "output_type": "execute_result"
    }
   ],
   "source": [
    "## Count the name of the program ( i'm gonna check the elegibiliy of the programs)\n",
    "df[\"Program Group\"].value_counts().to_frame()"
   ]
  },
  {
   "cell_type": "code",
   "execution_count": 7,
   "id": "3e32ea9b",
   "metadata": {},
   "outputs": [
    {
     "data": {
      "text/html": [
       "<div>\n",
       "<style scoped>\n",
       "    .dataframe tbody tr th:only-of-type {\n",
       "        vertical-align: middle;\n",
       "    }\n",
       "\n",
       "    .dataframe tbody tr th {\n",
       "        vertical-align: top;\n",
       "    }\n",
       "\n",
       "    .dataframe thead th {\n",
       "        text-align: right;\n",
       "    }\n",
       "</style>\n",
       "<table border=\"1\" class=\"dataframe\">\n",
       "  <thead>\n",
       "    <tr style=\"text-align: right;\">\n",
       "      <th></th>\n",
       "      <th>Extended Affordability Only</th>\n",
       "    </tr>\n",
       "  </thead>\n",
       "  <tbody>\n",
       "    <tr>\n",
       "      <th>No</th>\n",
       "      <td>3413</td>\n",
       "    </tr>\n",
       "    <tr>\n",
       "      <th>Yes</th>\n",
       "      <td>220</td>\n",
       "    </tr>\n",
       "  </tbody>\n",
       "</table>\n",
       "</div>"
      ],
      "text/plain": [
       "     Extended Affordability Only\n",
       "No                          3413\n",
       "Yes                          220"
      ]
     },
     "execution_count": 7,
     "metadata": {},
     "output_type": "execute_result"
    }
   ],
   "source": [
    "## Count the name of the program ( i'm gonna check the elegibiliy of the programs)\n",
    "df[\"Extended Affordability Only\"].value_counts().to_frame()"
   ]
  },
  {
   "cell_type": "code",
   "execution_count": 8,
   "id": "618148ec",
   "metadata": {},
   "outputs": [
    {
     "data": {
      "text/html": [
       "<div>\n",
       "<style scoped>\n",
       "    .dataframe tbody tr th:only-of-type {\n",
       "        vertical-align: middle;\n",
       "    }\n",
       "\n",
       "    .dataframe tbody tr th {\n",
       "        vertical-align: top;\n",
       "    }\n",
       "\n",
       "    .dataframe thead th {\n",
       "        text-align: right;\n",
       "    }\n",
       "</style>\n",
       "<table border=\"1\" class=\"dataframe\">\n",
       "  <thead>\n",
       "    <tr style=\"text-align: right;\">\n",
       "      <th></th>\n",
       "      <th>Prevailing Wage Status</th>\n",
       "    </tr>\n",
       "  </thead>\n",
       "  <tbody>\n",
       "    <tr>\n",
       "      <th>Non Prevailing Wage</th>\n",
       "      <td>3547</td>\n",
       "    </tr>\n",
       "    <tr>\n",
       "      <th>Prevailing Wage</th>\n",
       "      <td>86</td>\n",
       "    </tr>\n",
       "  </tbody>\n",
       "</table>\n",
       "</div>"
      ],
      "text/plain": [
       "                     Prevailing Wage Status\n",
       "Non Prevailing Wage                    3547\n",
       "Prevailing Wage                          86"
      ]
     },
     "execution_count": 8,
     "metadata": {},
     "output_type": "execute_result"
    }
   ],
   "source": [
    "df[\"Prevailing Wage Status\"].value_counts().to_frame()"
   ]
  },
  {
   "cell_type": "code",
   "execution_count": 9,
   "id": "5ae234bd",
   "metadata": {},
   "outputs": [
    {
     "data": {
      "text/html": [
       "<div>\n",
       "<style scoped>\n",
       "    .dataframe tbody tr th:only-of-type {\n",
       "        vertical-align: middle;\n",
       "    }\n",
       "\n",
       "    .dataframe tbody tr th {\n",
       "        vertical-align: top;\n",
       "    }\n",
       "\n",
       "    .dataframe thead th {\n",
       "        text-align: right;\n",
       "    }\n",
       "</style>\n",
       "<table border=\"1\" class=\"dataframe\">\n",
       "  <thead>\n",
       "    <tr style=\"text-align: right;\">\n",
       "      <th></th>\n",
       "      <th>Planned Tax Benefit</th>\n",
       "    </tr>\n",
       "  </thead>\n",
       "  <tbody>\n",
       "    <tr>\n",
       "      <th>421a</th>\n",
       "      <td>1346</td>\n",
       "    </tr>\n",
       "    <tr>\n",
       "      <th>420c</th>\n",
       "      <td>373</td>\n",
       "    </tr>\n",
       "    <tr>\n",
       "      <th>Article XI</th>\n",
       "      <td>360</td>\n",
       "    </tr>\n",
       "    <tr>\n",
       "      <th>J-51 Enriched</th>\n",
       "      <td>36</td>\n",
       "    </tr>\n",
       "    <tr>\n",
       "      <th>Article II</th>\n",
       "      <td>34</td>\n",
       "    </tr>\n",
       "    <tr>\n",
       "      <th>J-51</th>\n",
       "      <td>17</td>\n",
       "    </tr>\n",
       "    <tr>\n",
       "      <th>UDAAP</th>\n",
       "      <td>14</td>\n",
       "    </tr>\n",
       "    <tr>\n",
       "      <th>420a</th>\n",
       "      <td>12</td>\n",
       "    </tr>\n",
       "    <tr>\n",
       "      <th>Article V</th>\n",
       "      <td>11</td>\n",
       "    </tr>\n",
       "    <tr>\n",
       "      <th>Article IV</th>\n",
       "      <td>1</td>\n",
       "    </tr>\n",
       "  </tbody>\n",
       "</table>\n",
       "</div>"
      ],
      "text/plain": [
       "               Planned Tax Benefit\n",
       "421a                          1346\n",
       "420c                           373\n",
       "Article XI                     360\n",
       "J-51 Enriched                   36\n",
       "Article II                      34\n",
       "J-51                            17\n",
       "UDAAP                           14\n",
       "420a                            12\n",
       "Article V                       11\n",
       "Article IV                       1"
      ]
     },
     "execution_count": 9,
     "metadata": {},
     "output_type": "execute_result"
    }
   ],
   "source": [
    "df[\"Planned Tax Benefit\"].value_counts().to_frame()"
   ]
  },
  {
   "cell_type": "code",
   "execution_count": 10,
   "id": "3b31d71b",
   "metadata": {},
   "outputs": [
    {
     "data": {
      "text/plain": [
       "180"
      ]
     },
     "execution_count": 10,
     "metadata": {},
     "output_type": "execute_result"
    }
   ],
   "source": [
    "df[\"Extremely Low Income Units\"].nunique()"
   ]
  },
  {
   "cell_type": "code",
   "execution_count": 11,
   "id": "57a588b8",
   "metadata": {},
   "outputs": [
    {
     "data": {
      "text/plain": [
       "169"
      ]
     },
     "execution_count": 11,
     "metadata": {},
     "output_type": "execute_result"
    }
   ],
   "source": [
    "\n",
    "df[\"Very Low Income Units\"].nunique()"
   ]
  },
  {
   "cell_type": "code",
   "execution_count": 12,
   "id": "56fdb486",
   "metadata": {},
   "outputs": [
    {
     "data": {
      "text/plain": [
       "225"
      ]
     },
     "execution_count": 12,
     "metadata": {},
     "output_type": "execute_result"
    }
   ],
   "source": [
    "df[\"Low Income Units\"].nunique()"
   ]
  },
  {
   "cell_type": "code",
   "execution_count": 13,
   "id": "a5a4208a",
   "metadata": {},
   "outputs": [
    {
     "data": {
      "text/plain": [
       "100"
      ]
     },
     "execution_count": 13,
     "metadata": {},
     "output_type": "execute_result"
    }
   ],
   "source": [
    "df[\"Moderate Income Units\"].nunique()"
   ]
  },
  {
   "cell_type": "code",
   "execution_count": 14,
   "id": "c9b42360",
   "metadata": {},
   "outputs": [
    {
     "data": {
      "text/plain": [
       "101"
      ]
     },
     "execution_count": 14,
     "metadata": {},
     "output_type": "execute_result"
    }
   ],
   "source": [
    "df[\"Middle Income Units\"].nunique()"
   ]
  },
  {
   "cell_type": "code",
   "execution_count": 15,
   "id": "e23d3b90",
   "metadata": {},
   "outputs": [
    {
     "data": {
      "text/plain": [
       "12"
      ]
     },
     "execution_count": 15,
     "metadata": {},
     "output_type": "execute_result"
    }
   ],
   "source": [
    "df[\"Other Income Units\"].nunique()"
   ]
  },
  {
   "cell_type": "code",
   "execution_count": 16,
   "id": "6d544491",
   "metadata": {},
   "outputs": [
    {
     "data": {
      "text/plain": [
       "344"
      ]
     },
     "execution_count": 16,
     "metadata": {},
     "output_type": "execute_result"
    }
   ],
   "source": [
    "df[\"Counted Rental Units\"].nunique()"
   ]
  },
  {
   "cell_type": "code",
   "execution_count": 17,
   "id": "abc4f85a",
   "metadata": {},
   "outputs": [
    {
     "data": {
      "text/plain": [
       "117"
      ]
     },
     "execution_count": 17,
     "metadata": {},
     "output_type": "execute_result"
    }
   ],
   "source": [
    "df[\"Senior Units\"].nunique()"
   ]
  },
  {
   "cell_type": "code",
   "execution_count": 18,
   "id": "520d3479",
   "metadata": {},
   "outputs": [
    {
     "data": {
      "text/plain": [
       "117"
      ]
     },
     "execution_count": 18,
     "metadata": {},
     "output_type": "execute_result"
    }
   ],
   "source": [
    "df[\"Senior Units\"].nunique()"
   ]
  },
  {
   "cell_type": "code",
   "execution_count": null,
   "id": "0002bdaa",
   "metadata": {},
   "outputs": [],
   "source": []
  }
 ],
 "metadata": {
  "kernelspec": {
   "display_name": "Python 3 (ipykernel)",
   "language": "python",
   "name": "python3"
  },
  "language_info": {
   "codemirror_mode": {
    "name": "ipython",
    "version": 3
   },
   "file_extension": ".py",
   "mimetype": "text/x-python",
   "name": "python",
   "nbconvert_exporter": "python",
   "pygments_lexer": "ipython3",
   "version": "3.9.13"
  }
 },
 "nbformat": 4,
 "nbformat_minor": 5
}
